{
 "cells": [
  {
   "cell_type": "code",
   "execution_count": 6,
   "id": "56d045fe",
   "metadata": {},
   "outputs": [],
   "source": [
    "import pandas as pd\n",
    "\n",
    "# List of your CSV files\n",
    "files = ['JC-202407-citibike-tripdata.csv', 'JC-202408-citibike-tripdata.csv', 'JC-202409-citibike-tripdata.csv']  # Replace with your actual file names\n",
    "\n",
    "# Read and concatenate the CSV files, focusing on the necessary columns\n",
    "data_frames = [pd.read_csv(file, usecols=['start_station_name', 'end_station_name', \n",
    "                                          'start_lat', 'start_lng', \n",
    "                                          'end_lat', 'end_lng']) for file in files]\n",
    "data = pd.concat(data_frames, ignore_index=True)\n",
    "\n",
    "# Group by route and calculate trip count\n",
    "route_summary = data.groupby(['start_station_name', 'end_station_name', \n",
    "                              'start_lat', 'start_lng', \n",
    "                              'end_lat', 'end_lng']).size().reset_index(name='trip_count')\n",
    "\n",
    "# Save to a new CSV file\n",
    "route_summary.to_csv('route_summary_2.csv', index=False)\n"
   ]
  },
  {
   "cell_type": "code",
   "execution_count": null,
   "id": "fa32bcb0",
   "metadata": {},
   "outputs": [],
   "source": [
    "import pandas as pd\n",
    "\n",
    "# List of your CSV files\n",
    "files = ['JC-202407-citibike-tripdata.csv', 'JC-202408-citibike-tripdata.csv', 'JC-202409-citibike-tripdata.csv']  # Replace with your actual file names\n",
    "\n",
    "# Read and concatenate the CSV files, focusing on the necessary columns\n",
    "data_frames = [pd.read_csv(file, usecols=['start_station_name', 'end_station_name', \n",
    "                                          'start_lat', 'start_lng', \n",
    "                                          'end_lat', 'end_lng', \n",
    "                                          'started_at', 'ended_at']) for file in files]\n",
    "data = pd.concat(data_frames, ignore_index=True)\n",
    "\n",
    "# Group by route and calculate trip count\n",
    "route_summary = data.groupby(['started_at', 'ended_at', 'start_station_name', 'end_station_name', \n",
    "                              'start_lat', 'start_lng', \n",
    "                              'end_lat', 'end_lng']).size().reset_index(name='trip_count')\n",
    "\n",
    "# Save to a new CSV file\n",
    "route_summary.to_csv('route_summary.csv', index=False)"
   ]
  },
  {
   "cell_type": "code",
   "execution_count": null,
   "id": "c97de57a",
   "metadata": {},
   "outputs": [],
   "source": []
  },
  {
   "cell_type": "code",
   "execution_count": null,
   "id": "6422402d",
   "metadata": {},
   "outputs": [],
   "source": []
  },
  {
   "cell_type": "code",
   "execution_count": null,
   "id": "597c614f",
   "metadata": {},
   "outputs": [],
   "source": []
  }
 ],
 "metadata": {
  "kernelspec": {
   "display_name": "devt",
   "language": "python",
   "name": "python3"
  },
  "language_info": {
   "codemirror_mode": {
    "name": "ipython",
    "version": 3
   },
   "file_extension": ".py",
   "mimetype": "text/x-python",
   "name": "python",
   "nbconvert_exporter": "python",
   "pygments_lexer": "ipython3",
   "version": "3.10.14"
  }
 },
 "nbformat": 4,
 "nbformat_minor": 5
}
